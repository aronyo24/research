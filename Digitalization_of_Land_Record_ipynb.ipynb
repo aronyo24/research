{
  "nbformat": 4,
  "nbformat_minor": 0,
  "metadata": {
    "colab": {
      "private_outputs": true,
      "provenance": [],
      "mount_file_id": "1jZDGoQ_JEb2C4sQp_m0O54omvcDxFw9x",
      "authorship_tag": "ABX9TyMQwuLUSPJx78u/pbqj6Klo",
      "include_colab_link": true
    },
    "kernelspec": {
      "name": "python3",
      "display_name": "Python 3"
    },
    "language_info": {
      "name": "python"
    }
  },
  "cells": [
    {
      "cell_type": "markdown",
      "metadata": {
        "id": "view-in-github",
        "colab_type": "text"
      },
      "source": [
        "<a href=\"https://colab.research.google.com/github/aronyo24/research/blob/main/Digitalization_of_Land_Record_ipynb.ipynb\" target=\"_parent\"><img src=\"https://colab.research.google.com/assets/colab-badge.svg\" alt=\"Open In Colab\"/></a>"
      ]
    },
    {
      "cell_type": "code",
      "execution_count": null,
      "metadata": {
        "id": "bjzgFlQOIVZP"
      },
      "outputs": [],
      "source": [
        "import numpy as np\n",
        "import pandas as pd\n",
        "import matplotlib.pyplot as plt\n",
        "import seaborn as sns\n",
        "import statsmodels.api as sm\n",
        "import statsmodels.formula.api as smf\n",
        "import matplotlib.patches as mpatches\n"
      ]
    },
    {
      "cell_type": "code",
      "source": [
        "df=pd.read_csv(\"/content/drive/MyDrive/Research Paper/digi_land_re.csv\")\n",
        "df"
      ],
      "metadata": {
        "id": "s0l_eJiMLizl"
      },
      "execution_count": null,
      "outputs": []
    },
    {
      "cell_type": "code",
      "source": [
        "df.columns.tolist()"
      ],
      "metadata": {
        "id": "Jib2HytnJfPm"
      },
      "execution_count": null,
      "outputs": []
    },
    {
      "cell_type": "code",
      "source": [],
      "metadata": {
        "id": "bpzQ5ixYFBnz"
      },
      "execution_count": null,
      "outputs": []
    },
    {
      "cell_type": "code",
      "source": [
        "df=df.drop(columns=['Recommendation from elites','Device Used for submitting application','Unnamed: 22', 'Unnamed: 23','Unnamed: 24'])\n",
        "#df"
      ],
      "metadata": {
        "id": "SKaA1s89Y1RD"
      },
      "execution_count": null,
      "outputs": []
    },
    {
      "cell_type": "code",
      "source": [
        "df.columns.tolist()"
      ],
      "metadata": {
        "id": "Kn4vnaBp1fFQ"
      },
      "execution_count": null,
      "outputs": []
    },
    {
      "cell_type": "code",
      "source": [
        "df.rename(columns={\n",
        "    \"Service Type \":\"service_type\",\n",
        "    'Location':'location',\n",
        "    \"Education\": \"education\",\n",
        "    \"Phone User\": \"phone_type\",\n",
        "    \"Laptop Access\": \"laptop_access\",\n",
        "    \"Internet Access\": \"internet_access\",\n",
        "    \"Who Submitted Application\" :\"who_submitted_application\",\n",
        "    \"Device Used for submitting application\": \"device_used\",\n",
        "    \"Application Submission times\": \"app_submission_times\",\n",
        "    \"Cost of Submitting Application \": \"app_cost\",\n",
        "    \"Cost for e-mutation\": \"e_mutation_cost\",\n",
        "    \"To whom, pay\": \"payment_receiver\",\n",
        "    \"Days to get the service\": \"service_days\",\n",
        "    \"Citizen Awareness of Circulars\": \"awareness_circulars\",\n",
        "    \"Citizen's Awareness for Complaints\": \"awareness_complaints\",\n",
        "    \"Visits to government offices\": \"gov_office_visits\",\n",
        "    \"Cash transaction to govt Offices\": \"cash_transaction\",\n",
        "    \"Citizen's Satistaction\": \"citizen_satisfaction\",\n",
        "    \"Recommendation from elites\":\"recommendation_f_elites\",\n",
        "    \"Previous experience of mutation\":\"Previous_experience_mut\"\n",
        "\n",
        "}, inplace=True)\n",
        "\n",
        "df\n"
      ],
      "metadata": {
        "id": "8HNjLp3sK9Tm"
      },
      "execution_count": null,
      "outputs": []
    },
    {
      "cell_type": "code",
      "source": [
        "##  Education: 1 = Secondary, 0 = Uneducated ,2= Highly Educated\n",
        "df['education'] = df['education'].apply(lambda x: 0 if x in [\"ill\", \"no education\"] else (1 if x in [\"eight\", \"ssc\"] else 2))\n",
        "\n",
        "\n",
        "\n",
        "##  Gender: 1 = , 0 = Female\n",
        "df['Gender'] = df['Gender'].apply(lambda x: 0 if x == \"2\" else 1)\n",
        "\n",
        "##  Phone Type: 1 = Android, 0 = Button Phone\n",
        "df['phone_type'] = df['phone_type'].apply(lambda x: 1 if x == 1 else 0)\n",
        "\n",
        "##  Laptop Access: 1 = Yes, 0 = No\n",
        "df['laptop_access'] = df['laptop_access'].apply(lambda x: 1 if x == 1 else 0)\n",
        "\n",
        "## Internet Access: 1 = Yes, 0 = No\n",
        "df['internet_access'] = df['internet_access'].apply(lambda x: 1 if x == 1 else 0)\n",
        "\n",
        "## Citizen Awareness of Circulars: 1 = Yes, 0 = No\n",
        "df['awareness_circulars'] = df['awareness_circulars'].apply(lambda x: 1 if x == 1 else 0)\n",
        "\n",
        "## Citizen's Awareness for Complaints: 1 = Yes, 0 = No\n",
        "df['awareness_complaints'] = df['awareness_complaints'].apply(lambda x: 1 if x == 1 else 0)\n",
        "## Device Used for submitting application 1 = laptop ,0 = phone\n",
        "#df['device_used'] = df['device_used'].apply(lambda x: 1 if x == 1 else 0)\n",
        "\n",
        "## Cash transaction to govt Offices 1 = yes ,0 = no\n",
        "df['cash_transaction'] = df['cash_transaction'].apply(lambda x: 1 if x == 1 else 0)\n",
        "\n",
        "##Citizen's Satistaction 1= yes , 0 = no\n",
        "df['citizen_satisfaction'] = df['citizen_satisfaction'].apply(lambda x: 1 if x == 1 else 0)\n",
        "\n"
      ],
      "metadata": {
        "id": "UpIk0L3UcJv9"
      },
      "execution_count": null,
      "outputs": []
    },
    {
      "cell_type": "code",
      "source": [
        "df.columns"
      ],
      "metadata": {
        "id": "0mVifZWi2Gcp"
      },
      "execution_count": null,
      "outputs": []
    },
    {
      "cell_type": "code",
      "source": [],
      "metadata": {
        "id": "nbffgPX9ayOi"
      },
      "execution_count": null,
      "outputs": []
    },
    {
      "cell_type": "code",
      "source": [
        "df.describe()"
      ],
      "metadata": {
        "id": "qcvpXKEwCMnz"
      },
      "execution_count": null,
      "outputs": []
    },
    {
      "cell_type": "code",
      "source": [
        "df = df.dropna()\n",
        "\n",
        "df\n"
      ],
      "metadata": {
        "id": "dsTTBw7ZlR9f"
      },
      "execution_count": null,
      "outputs": []
    },
    {
      "cell_type": "code",
      "source": [
        "df.hist(figsize=(15, 13), bins=20)\n",
        "plt.show()"
      ],
      "metadata": {
        "id": "ZIG3AEOBuIvZ"
      },
      "execution_count": null,
      "outputs": []
    },
    {
      "cell_type": "markdown",
      "source": [],
      "metadata": {
        "id": "7Ze4NjeGzFQf"
      }
    },
    {
      "cell_type": "code",
      "source": [
        "df[['app_cost', 'e_mutation_cost','service_days']]\n",
        "# in column e mutation cost means money range 1= 1170, 2 = 1170 to 2000 , 3= 2001 to 3000 & 4= 3001 to 4000\n",
        "# in column service days means m range 1= 28 ,2 = 28 to 45\n",
        "\n",
        "app_cost_map = {\n",
        "    1: 100,\n",
        "    2: 150,\n",
        "    3: 200\n",
        "}\n",
        "\n",
        "# Define the mappings\n",
        "e_mutation_cost_map = {\n",
        "    1: 1170,\n",
        "    2: 1585,\n",
        "    3: 2500,\n",
        "    4: 3500\n",
        "}\n",
        "\n",
        "service_days_map = {\n",
        "    1: 28,\n",
        "    2: 36\n",
        "}\n",
        "\n",
        "\n",
        "# Map values for e_mutation_cost if they are in [1, 2, 3, 4]\n",
        "df['app_cost'] = df['app_cost'].apply(lambda x: app_cost_map.get(x, x))\n",
        "df['e_mutation_cost'] = df['e_mutation_cost'].apply(lambda x: e_mutation_cost_map.get(x, x))\n",
        "\n",
        "# Map values for service_days if they are in [1, 2]\n",
        "df['service_days'] = df['service_days'].apply(lambda x: service_days_map.get(x, x))\n",
        "\n",
        "df\n"
      ],
      "metadata": {
        "id": "xPaeuzyevDwU"
      },
      "execution_count": null,
      "outputs": []
    },
    {
      "cell_type": "code",
      "source": [
        "df.to_csv('final_digi.csv', index=False)"
      ],
      "metadata": {
        "id": "9Eg5N1v-c0E3"
      },
      "execution_count": null,
      "outputs": []
    },
    {
      "cell_type": "markdown",
      "source": [
        "After processing data from both digital and manual systems.**bold text**"
      ],
      "metadata": {
        "id": "vizKtp7e5jpk"
      }
    },
    {
      "cell_type": "code",
      "source": [
        "df=pd.read_csv(\"/content/drive/MyDrive/Research Paper/processed_data_dig_man.csv\")\n",
        "df"
      ],
      "metadata": {
        "id": "vQ41pxCx5s2s"
      },
      "execution_count": null,
      "outputs": []
    },
    {
      "cell_type": "code",
      "source": [
        "df.hist(figsize=(15, 13), bins=20)\n",
        "plt.show()"
      ],
      "metadata": {
        "id": "l77RE-3n1LA6"
      },
      "execution_count": null,
      "outputs": []
    },
    {
      "cell_type": "code",
      "source": [
        "df.columns"
      ],
      "metadata": {
        "id": "EL8v0mr65bA5"
      },
      "execution_count": null,
      "outputs": []
    },
    {
      "cell_type": "code",
      "source": [
        "sns.histplot(x=df['service_type'],y=df['service_days'], data=df)\n"
      ],
      "metadata": {
        "id": "7IdRafESgo42"
      },
      "execution_count": null,
      "outputs": []
    },
    {
      "cell_type": "code",
      "source": [
        "\n",
        "df['Treatment'] = df['service_type']\n",
        "\n",
        "#  Post-digitalization period -------- service_days\n",
        "df['Post'] = (df['service_days'] <=39 ).astype(int)\n",
        "\n",
        "# DID Interaction Term\n",
        "df['Treatment_Post'] = df['Treatment'] * df['Post']"
      ],
      "metadata": {
        "id": "Xin7xVXxIGIF"
      },
      "execution_count": null,
      "outputs": []
    },
    {
      "cell_type": "code",
      "source": [
        "model = smf.ols(\n",
        "    \"service_days ~ Treatment + Post + Treatment_Post + Age + Gender + education + phone_type + \"\n",
        "    \"laptop_access + internet_access + who_submitted_application + app_submission_times + app_cost + \"\n",
        "    \"e_mutation_cost + payment_receiver + awareness_circulars + awareness_complaints + gov_office_visits + \"\n",
        "    \"cash_transaction + citizen_satisfaction\",\n",
        "    data=df\n",
        ").fit()\n",
        "\n",
        "\n",
        "print(model.summary())"
      ],
      "metadata": {
        "id": "YOELe3n7rCvu"
      },
      "execution_count": null,
      "outputs": []
    },
    {
      "cell_type": "code",
      "source": [
        "\n",
        "\n",
        "coefs = model.params\n",
        "conf_int = model.conf_int()\n",
        "conf_int.columns = ['Lower Bound', 'Upper Bound']\n",
        "\n",
        "\n",
        "coef_df = pd.DataFrame({'Coefficient': coefs, 'Lower Bound': conf_int['Lower Bound'], 'Upper Bound': conf_int['Upper Bound']})\n",
        "coef_df = coef_df.drop('Intercept')  #\n",
        "coef_df = coef_df.sort_values(by=\"Coefficient\", ascending=False)\n",
        "\n",
        "#positive = red, negative = blue\n",
        "colors = ['red' if coef > 0 else 'blue' for coef in coef_df['Coefficient']]\n",
        "\n",
        "\n",
        "plt.figure(figsize=(10, 6))\n",
        "bars = plt.barh(coef_df.index, coef_df['Coefficient'], color=colors, xerr=[coef_df['Coefficient'] - coef_df['Lower Bound'], coef_df['Upper Bound'] - coef_df['Coefficient']])\n",
        "plt.xlabel(\"Effect on Service Days\")\n",
        "plt.title(\"Impact of Different Factors on Service Time\")\n",
        "plt.axvline(x=0, color=\"black\", linestyle=\"dashed\")\n",
        "plt.gca().invert_yaxis()\n",
        "\n",
        "\n",
        "for bar, coef in zip(bars, coef_df['Coefficient']):\n",
        "    plt.text(bar.get_width(), bar.get_y() + bar.get_height()/2, f\"{coef:.2f}\", ha='left' if coef > 0 else 'right', va='center', fontsize=10)\n",
        "\n",
        "plt.show()\n"
      ],
      "metadata": {
        "id": "TVr6adAG6KI8"
      },
      "execution_count": null,
      "outputs": []
    },
    {
      "cell_type": "code",
      "source": [
        "\n",
        "\n",
        "did_plot = df.groupby(['Treatment', 'Post'])['service_days'].mean().reset_index()\n",
        "\n",
        "\n",
        "did_plot['System'] = did_plot['Treatment'].map({0: 'Manual', 1: 'Digital'})\n",
        "did_plot['Period'] = did_plot['Post'].map({0: 'Before', 1: 'After'})\n",
        "\n",
        "\n",
        "did_pivot = did_plot.pivot(index='Period', columns='System', values='service_days')\n",
        "\n",
        "\n",
        "plt.figure(figsize=(8, 5))\n",
        "sns.lineplot(data=did_pivot, markers=True, dashes=False)\n",
        "plt.title(\"Effect of Digitalization on Service Time (DID Analysis)\")\n",
        "plt.ylabel(\"Average Service Days\")\n",
        "plt.xlabel(\"Time Period\")\n",
        "plt.axvline(0.5, color=\"black\", linestyle=\"dashed\", label=\"Digitalization Begins\")\n",
        "plt.legend(title=\"Service Type\")\n",
        "plt.show()\n"
      ],
      "metadata": {
        "id": "VHFL5xwzU3wf"
      },
      "execution_count": null,
      "outputs": []
    },
    {
      "cell_type": "code",
      "source": [
        "sns.countplot(x=df[\"location\"], hue=df[\"Treatment\"])\n",
        "plt.title(\"Urban vs. Rural\")\n",
        "plt.xlabel(\"Location\")\n",
        "plt.ylabel(\"Number of Users\")\n",
        "plt.legend(title=\"Service Type (0 = Manual, 1 = Digital)\")\n",
        "plt.show()"
      ],
      "metadata": {
        "id": "XdlgSQZKL-0u"
      },
      "execution_count": null,
      "outputs": []
    },
    {
      "cell_type": "code",
      "source": [
        "\n",
        "education_labels = {0: \"Uneducated\", 1: \"Secondary\", 2: \"Highly Educated\"}\n",
        "\n",
        "df[\"Education Label\"] = df[\"education\"].map(education_labels)\n",
        "\n",
        "\n",
        "df_counts = df.groupby([\"Education Label\", \"Treatment\"]).size().reset_index(name=\"Count\")\n",
        "\n",
        "\n",
        "plt.figure(figsize=(8, 5))\n",
        "ax = sns.barplot(\n",
        "    x=\"Education Label\",\n",
        "    y=\"Count\",\n",
        "    hue=\"Treatment\",\n",
        "    data=df_counts,\n",
        "    palette={0: \"green\", 1: \"orange\"},\n",
        "    dodge=True,\n",
        "    capsize=0.1\n",
        ")\n",
        "\n",
        "\n",
        "plt.title(\"Number of People Using Digital vs. Manual Systems by Education Level\")\n",
        "plt.xlabel(\"Education Level\")\n",
        "plt.ylabel(\"Number of People\")\n",
        "\n",
        "# Fix legend colors\n",
        "manual_patch = mpatches.Patch(color=\"green\", label=\"Manual System\")\n",
        "digital_patch = mpatches.Patch(color=\"orange\", label=\"Digital System\")\n",
        "plt.legend(handles=[manual_patch, digital_patch], title=\"Service Type\", fontsize=11, loc=\"best\")\n",
        "\n"
      ],
      "metadata": {
        "id": "1RtWvP_anWl-"
      },
      "execution_count": null,
      "outputs": []
    },
    {
      "cell_type": "code",
      "source": [
        "\n",
        "plt.figure(figsize=(8, 5))\n",
        "ax = sns.barplot(\n",
        "    x=\"Treatment_Post\",\n",
        "    y=\"citizen_satisfaction\",\n",
        "    data=df,\n",
        "    hue=\"Treatment_Post\",\n",
        "    palette={0: \"blue\", 1: \"orange\"},\n",
        "    capsize=0.1,\n",
        "    dodge=False\n",
        ")\n",
        "\n",
        "\n",
        "plt.title(\"Impact of Digitalization on Citizen Satisfaction\")\n",
        "plt.xlabel(\"Digitalization Impact\")\n",
        "plt.ylabel(\"Average Citizen Satisfaction\")\n",
        "\n",
        "\n",
        "ax.set_xticklabels([\"Before Digitalization\", \"After Digitalization\"])\n",
        "\n",
        "\n",
        "handles = [\n",
        "    plt.Rectangle((0,0),1,1, color=\"blue\", alpha=0.6, label=\"Before Digitalization\"),\n",
        "    plt.Rectangle((0,0),1,1, color=\"orange\", alpha=0.6, label=\"After Digitalization\")\n",
        "]\n",
        "plt.legend(handles=handles, title=\"Digitalization\", fontsize=11)\n",
        "\n",
        "\n"
      ],
      "metadata": {
        "id": "6x3GB6IPP3qt"
      },
      "execution_count": null,
      "outputs": []
    },
    {
      "cell_type": "code",
      "source": [
        "\n",
        "df_analysis = df.groupby([\"internet_access\", \"Treatment_Post\"])[\"app_submission_times\"].mean().reset_index()\n",
        "\n",
        "df_analysis[\"internet_access_label\"] = df_analysis[\"internet_access\"].map({0: \"No Internet\", 1: \"Has Internet\"})\n",
        "df_analysis[\"digitalization_label\"] = df_analysis[\"Treatment_Post\"].map({0: \"Before Digitalization\", 1: \"After Digitalization\"})\n",
        "\n",
        "\n",
        "plt.figure(figsize=(8, 5))\n",
        "ax = sns.barplot(\n",
        "    x=\"internet_access_label\",\n",
        "    y=\"app_submission_times\",\n",
        "    hue=\"digitalization_label\",\n",
        "    data=df_analysis,\n",
        "    palette={\"Before Digitalization\": \"blue\", \"After Digitalization\": \"orange\"},\n",
        "    capsize=0.1\n",
        ")\n",
        "\n",
        "\n",
        "plt.title(\"Effect of Internet Access on Application Submission Time Before and After Digitalization\")\n",
        "plt.xlabel(\"Internet Access\", fontsize=12, fontweight='bold')\n",
        "plt.ylabel(\"Average Application Submission Time\")\n",
        "\n",
        "\n",
        "plt.legend(title=\"Digitalization\", fontsize=11)\n"
      ],
      "metadata": {
        "id": "8HWZq8mKSt1L"
      },
      "execution_count": null,
      "outputs": []
    },
    {
      "cell_type": "code",
      "source": [
        "\n",
        "df_analysis = df.groupby([\"Treatment\", \"Treatment_Post\"])[\"e_mutation_cost\"].mean().reset_index()\n",
        "\n",
        "\n",
        "df_analysis[\"Service_Type\"] = df_analysis[\"Treatment\"].map({0: \"Manual System\", 1: \"Digital System\"})\n",
        "df_analysis[\"Digitalization_Period\"] = df_analysis[\"Treatment_Post\"].map({0: \"Before Digitalization\", 1: \"After Digitalization\"})\n",
        "\n",
        "\n",
        "plt.figure(figsize=(8, 5))\n",
        "ax = sns.barplot(\n",
        "    x=\"Service_Type\",\n",
        "    y=\"e_mutation_cost\",\n",
        "    hue=\"Digitalization_Period\",\n",
        "    data=df_analysis,\n",
        "    palette={\"Before Digitalization\": \"blue\", \"After Digitalization\": \"orange\"},\n",
        "    capsize=0.1\n",
        ")\n",
        "\n",
        "plt.title(\"Effect of Digital vs Manual System on e-Mutation Cost\")\n",
        "plt.xlabel(\"Service Type\", fontsize=12, fontweight='bold')\n",
        "plt.ylabel(\"Average e-Mutation Cost\")\n",
        "\n",
        "plt.legend(title=\"Digitalization\", fontsize=11)\n",
        "\n"
      ],
      "metadata": {
        "id": "xrB6L62kXPaf"
      },
      "execution_count": null,
      "outputs": []
    },
    {
      "cell_type": "code",
      "source": [
        "\n",
        "\n",
        "df_analysis = df.groupby([\"Treatment\", \"Treatment_Post\"])[\"gov_office_visits\"].mean().reset_index()\n",
        "\n",
        "\n",
        "df_analysis[\"Service_Type\"] = df_analysis[\"Treatment\"].map({0: \"Manual System\", 1: \"Digital System\"})\n",
        "df_analysis[\"Digitalization_Period\"] = df_analysis[\"Treatment_Post\"].map({0: \"Before Digitalization\", 1: \"After Digitalization\"})\n",
        "\n",
        "plt.figure(figsize=(8, 5))\n",
        "ax = sns.barplot(\n",
        "    x=\"Service_Type\",\n",
        "    y=\"gov_office_visits\",\n",
        "    hue=\"Digitalization_Period\",\n",
        "    data=df_analysis,\n",
        "    palette={\"Before Digitalization\": \"blue\", \"After Digitalization\": \"orange\"},\n",
        "    capsize=0.1\n",
        ")\n",
        "\n",
        "# Titles and labels\n",
        "plt.title(\"Effect of Digital vs Manual System on Government Office Visits\")\n",
        "plt.xlabel(\"Service Type\", fontsize=12, fontweight='bold')\n",
        "plt.ylabel(\"Average Number of Office Visits\", fontsize=12, fontweight='bold')\n",
        "\n",
        "# Add a legend\n",
        "plt.legend(title=\"Digitalization\", fontsize=11)\n"
      ],
      "metadata": {
        "id": "q9OMUZrdX8wj"
      },
      "execution_count": null,
      "outputs": []
    }
  ]
}